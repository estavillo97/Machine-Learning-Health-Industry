{
 "cells": [
  {
   "cell_type": "markdown",
   "id": "a1d50067",
   "metadata": {},
   "source": [
    "# Readmisión en Pacientes Diabéticos"
   ]
  },
  {
   "cell_type": "markdown",
   "id": "acdd9477",
   "metadata": {},
   "source": [
    "## Descripción"
   ]
  },
  {
   "cell_type": "markdown",
   "id": "cdaca9f8",
   "metadata": {},
   "source": [
    "El siguiente dataset representa los datos de varios años de atención clínica a\n",
    "personas diabéticas en más de 100 hospitales de EEUU. El dataset tiene múltiples\n",
    "características que representan los resultados del paciente y del hospital o centro de\n",
    "atención."
   ]
  },
  {
   "cell_type": "markdown",
   "id": "3cf5b0f5",
   "metadata": {},
   "source": [
    "# Objetivo"
   ]
  },
  {
   "cell_type": "markdown",
   "id": "a25aa5a6",
   "metadata": {},
   "source": [
    "Realizar un modelo de predicción que determine si un\n",
    "paciente será readmitido en el hospital en menos de 30 días."
   ]
  },
  {
   "cell_type": "markdown",
   "id": "5d24c9e7",
   "metadata": {},
   "source": [
    "# librerias"
   ]
  },
  {
   "cell_type": "code",
   "execution_count": 1,
   "id": "44314a92",
   "metadata": {},
   "outputs": [],
   "source": [
    "import pandas as pd\n",
    "import matplotlib.pyplot as plt\n",
    "import numpy as np\n",
    "from sklearn.ensemble import RandomForestClassifier\n",
    "from sklearn.feature_selection import SelectFromModel\n",
    "from sklearn.metrics import f1_score, roc_curve, auc, accuracy_score\n",
    "from sklearn.model_selection import train_test_split"
   ]
  },
  {
   "cell_type": "markdown",
   "id": "176a9dec",
   "metadata": {},
   "source": [
    "# Data QA"
   ]
  },
  {
   "cell_type": "code",
   "execution_count": 2,
   "id": "c157a531",
   "metadata": {},
   "outputs": [
    {
     "name": "stderr",
     "output_type": "stream",
     "text": [
      "C:\\Users\\juanp\\AppData\\Local\\Temp\\ipykernel_65240\\3535789320.py:2: DtypeWarning: Columns (3,4,7,10,17,22,27,28,29,30,31,33,37,41,54) have mixed types. Specify dtype option on import or set low_memory=False.\n",
      "  data = pd.read_csv('diabetes_data/diabetic_data.csv')\n"
     ]
    }
   ],
   "source": [
    "# import data, we'll check the dtypes in the next section\n",
    "data = pd.read_csv('diabetes_data/diabetic_data.csv')"
   ]
  },
  {
   "cell_type": "code",
   "execution_count": 3,
   "id": "c9471dec",
   "metadata": {},
   "outputs": [
    {
     "name": "stdout",
     "output_type": "stream",
     "text": [
      "diag_1\n",
      "['250.83' '276' '648' '8' '197' '414' '428' '398' '434' '250.7' '157'\n",
      " '518' '999' '410' '682' '402' '737' '572' 'V57' '189' '786' '427' '996'\n",
      " '277' '584' '462' '473' '411' '174' '486' '998' '511' '432' '626' '295'\n",
      " '196' '250.6' '618' '182' '845' '423' '808' '250.4' '722' '403' '250.11'\n",
      " '784' '707' '440' '151' '715' '997' '198' '564' '812' '38' '590' '556'\n",
      " '578' '250.32' '433' 'V58' '569' '185' '536' '255' '250.13' '599' '558'\n",
      " '574' '491' '560' '244' '250.03' '577' '730' '188' '824' '250.8' '332'\n",
      " '562' '291' '296' '510' '401' '263' '438' '70' '250.02' '493' '642' '625'\n",
      " '571' '738' '593' '250.42' '807' '456' '446' '575' '250.41' '820' '515'\n",
      " '780' '250.22' '995' '235' '250.82' '721' '787' '162' '724' '282' '514'\n",
      " 'V55' '281' '250.33' '530' '466' '435' '250.12' 'V53' '789' '566' '822'\n",
      " '191' '557' '733' '455' '711' '482' '202' '280' '553' '225' '154' '441'\n",
      " '250.81' '349' '?' '962' '592' '507' '386' '156' '200' '728' '348' '459'\n",
      " '426' '388' '607' '337' '82' '531' '596' '288' '656' '573' '492' '220'\n",
      " '516' '210' '922' '286' '885' '958' '661' '969' '250.93' '227' '112'\n",
      " '404' '823' '532' '416' '346' '535' '453' '250' '595' '211' '303'\n",
      " '250.01' '852' '218' '782' '540' '457' '285' '431' '340' '550' '54' '351'\n",
      " '601' '723' '555' '153' '443' '380' '204' '424' '241' '358' '694' '331'\n",
      " '345' '681' '447' '290' '158' '579' '436' '335' '309' '654' '805' '799'\n",
      " '292' '183' '78' '851' '458' '586' '311' '892' '305' '293' '415' '591'\n",
      " '794' '803' '79' '655' '429' '278' '658' '598' '729' '585' '444' '604'\n",
      " '727' '214' '552' '284' '680' '708' '41' '644' '481' '821' '413' '437'\n",
      " '968' '756' '632' '359' '275' '512' '781' '420' '368' '522' '294' '825'\n",
      " '135' '304' '320' '250.31' '669' '868' '496' '250.43' '826' '567' '3'\n",
      " '203' '53' '251' '565' '161' '495' '49' '250.1' '297' '663' '576' '355'\n",
      " '850' '287' '250.2' '611' '840' '350' '726' '537' '620' '180' '366' '783'\n",
      " '11' '751' '716' '250.3' '199' '464' '580' '836' '664' '283' '813' '966'\n",
      " '289' '965' '184' '480' '608' '333' '972' '212' '117' '788' '924' '959'\n",
      " '621' '238' '785' '714' '942' '250.23' '710' '47' '933' '508' '478' '844'\n",
      " '7' '736' '233' '42' '250.5' '397' '395' '201' '421' '253' '250.92' '600'\n",
      " '494' '977' '39' '659' '312' '614' '647' '652' '646' '274' '861' '425'\n",
      " '527' '451' '485' '217' '250.53' '442' '970' '193' '160' '322' '581'\n",
      " '475' '623' '374' '582' '568' '465' '801' '237' '376' '150' '461' '913'\n",
      " '226' '617' '987' '641' '298' '790' '336' '362' '228' '513' '383' '746'\n",
      " '353' '911' '506' '873' '155' '860' '534' '802' '141' 'V45' '396' '310'\n",
      " '341' '242' '719' '239' '533' '616' '519' '301' 'V66' '5' '989' '230'\n",
      " '385' '300' '853' '871' '570' '848' '463' '9' '934' '250.21' '236' '361'\n",
      " '594' '501' '810' '643' '430' '528' '205' '791' '983' '992' '490' '172'\n",
      " '171' '622' '306' '863' '864' '474' '660' '759' '356' '634' '967' '551'\n",
      " '695' '187' '732' '747' '323' '308' '370' '252' '152' '846' '164' '365'\n",
      " '718' '48' '266' '720' '94' '344' '797' '170' '878' '904' 'V56' '882'\n",
      " '843' '709' '973' '454' '686' '939' '487' '229' '991' '483' '357' '692'\n",
      " '796' '693' '935' '936' '800' '920' 'V26' '261' '307' '262' '250.9' '831'\n",
      " '145' '223' 'V71' '839' '685' 'V54' '35' '34' '179' '964' '136' '324'\n",
      " '389' '815' '334' '143' '526' '588' '192' 'V67' '394' '917' '88' '219'\n",
      " '325' '792' '717' '994' '990' '793' '207' '637' '195' '373' '847' '827'\n",
      " '31' '891' '814' 'V60' '703' '865' '352' '627' '378' '342' '886' '369'\n",
      " '745' '705' '816' '541' '986' '610' '633' '640' '753' '173' '835' '379'\n",
      " '445' '272' '382' '945' '619' '881' '250.52' '866' '405' '916' '215'\n",
      " '893' '75' '671' '928' '906' '897' '725' '867' '115' '890' '734' '521'\n",
      " '674' '470' '834' '146' '696' '524' '980' '691' '384' '142' '879'\n",
      " '250.51' '246' '208' '448' '955' '653' '149' '245' '735' '883' '854'\n",
      " '952' '838' '194' 'V43' '163' '216' '147' '354' '27' '477' '318' '880'\n",
      " '921' '377' '471' '683' '175' '602' '250.91' '982' '706' '375' '417'\n",
      " '131' '347' '870' '148' '862' '61' '817' '914' '360' '684' '314' 'V63'\n",
      " '36' '57' '240' '915' '971' '795' '988' '452' '963' '327' '731' '842'\n",
      " 'V25' '645' '665' '110' '944' '603' '923' '412' '363' '957' '976' '698'\n",
      " '299' '700' '273' '974' '97' '529' '66' '98' '605' '941' '52' '806' '84'\n",
      " '271' '837' '657' '895' '338' '523' '542' '114' '543' '372' 'V70' 'E909'\n",
      " '583' 'V07' '422' '615' '279' '500' '903' '919' '875' '381' '804' '704'\n",
      " '23' '58' '649' '832' '133' '975' '833' '391' '690' '10' 'V51' 'abcde']\n",
      "glyburide\n",
      "['No' 'Steady' 'Up' 'Down' 'abcde']\n",
      "race\n",
      "['Caucasian' 'AfricanAmerican' '?' 'Other' 'Asian' 'Hispanic' 'abcde']\n",
      "number_inpatient\n",
      "[0 1 2 3 6 5 4 7 8 9 15 10 11 14 12 13 17 16 21 18 19 '0' '1' '5' '2' '7'\n",
      " '3' '8' '4' '9' '10' '6' '11' '12' '13' 'abcde' '15' '14' '16' '21']\n",
      "out\n",
      "[nan 'abcde']\n",
      "acarbose\n",
      "['No' 'Steady' 'Up' 'Down' 'abcde']\n",
      "glyburide-metformin_2\n",
      "['No' 'Steady' 'Down' 'Up' 'abcde']\n",
      "number_diagnoses\n",
      "[1 9 6 7 5 8 3 4 2 16 12 13 15 10 11 14 '9' '6' '4' '8' '7' '5' '16' '11'\n",
      " '3' '2' '10' '12' '14' '15' '1' '13' 'abcde']\n",
      "metformin-rosiglitazone\n",
      "['No' 'Steady' 'abcde']\n",
      "chlorpropamide\n",
      "['No' 'Steady' 'Down' 'Up' 'abcde']\n",
      "time_in_hospital\n",
      "[1 3 2 4 5 13 12 9 7 10 6 11 8 14 '2' '3' '1' '4' '5' '6' '9' '8' '10'\n",
      " '11' '7' '14' '13' '12' 'abcde']\n",
      "A1Cresult\n",
      "['None' '>7' '>8' 'Norm' 'abcde']\n",
      "examide\n",
      "['No' 'abcde']\n",
      "diag_2\n",
      "['?' '250.01' '250' '250.43' '157' '411' '492' '427' '198' '403' '288'\n",
      " '998' '507' '174' '425' '456' '401' '715' '496' '428' '585' '250.02'\n",
      " '410' '999' '996' '135' '244' '41' '571' '276' '997' '599' '424' '491'\n",
      " '553' '707' '286' '440' '493' '242' '70' 'V45' '250.03' '357' '511' '196'\n",
      " '396' '197' '414' '250.52' '577' '535' '413' '285' '53' '780' '518' '150'\n",
      " '566' '250.6' '867' '486' 'V15' '8' '788' '340' '574' '581' '228' '530'\n",
      " '250.82' '786' '294' '567' '785' '512' '305' '729' '250.51' '280' '648'\n",
      " '560' '618' '444' '38' 'V10' '578' '277' '781' '250.42' '278' '426' '584'\n",
      " '462' '402' '153' '272' '733' '34' '881' '203' '250.41' '250.13' '293'\n",
      " '245' '250.12' '558' '787' '342' '573' '626' '303' '250.53' '458' '710'\n",
      " '415' 'V42' '284' '569' '759' '682' '112' '292' '435' '290' '250.93'\n",
      " '642' '536' '398' '319' '711' 'E878' '446' '255' 'V44' '250.7' '784'\n",
      " '300' '562' '162' '287' '447' '789' '790' '591' '200' '154' '304' '117'\n",
      " '847' '852' '250.83' '250.11' '816' '575' '416' '412' '441' '515' '372'\n",
      " '482' '382' 'V65' '572' '283' '78' '250.81' '576' '432' '595' '295' 'V12'\n",
      " '204' '466' '721' '434' '590' '271' '813' '368' '227' '783' '250.5' '258'\n",
      " '253' '309' '250.91' '519' '333' '459' '250.92' '250.4' '179' '420' '345'\n",
      " '433' '661' '537' '205' '722' '405' '437' '714' '211' 'E812' '263' '202'\n",
      " '397' '250.23' 'E932' '201' '301' '723' '614' '568' '861' 'V57' '724'\n",
      " '189' '297' '453' 'E888' '730' '354' '451' '738' 'E939' '805' 'V43' '155'\n",
      " '910' '218' '358' '220' 'E937' '583' '958' '794' '564' '436' '250.22'\n",
      " '620' '621' '331' '617' '596' '314' '378' '250.8' '625' '478' '731' '172'\n",
      " '404' '681' '470' '279' '281' '531' '443' '799' '337' '311' '719' 'E944'\n",
      " '423' 'E870' '465' 'E849' '782' '481' '480' 'V23' '199' '79' '438' '348'\n",
      " '42' 'E950' '473' '627' '726' '54' '490' '317' '332' '508' '369' '600'\n",
      " '349' '485' '208' '922' '431' '296' 'E934' '753' 'E935' '386' '728' '607'\n",
      " 'E915' '344' '716' '289' '191' '873' '850' '611' '377' '352' '616' 'V17'\n",
      " '136' '455' '933' 'E885' '860' '513' '603' '484' '223' 'V72' '291' '151'\n",
      " 'V58' '550' '510' '891' '185' '592' '791' '138' '598' '336' '362' '217'\n",
      " '825' '298' '821' 'E880' '343' '429' 'E879' '579' '225' '250.9' 'V49'\n",
      " '696' '233' '658' '969' '275' '250.1' '601' '704' '808' 'E890' 'V18'\n",
      " '920' '380' '570' 'E817' '359' '812' '274' 'V14' '324' '758' 'V66' '911'\n",
      " 'E931' 'E924' '593' '792' '727' 'V46' '394' '532' 'V64' '557' '864' '718'\n",
      " 'E942' '807' '604' '924' '820' '580' '273' '241' '282' '824' 'V61' '646'\n",
      " '701' '736' '565' '383' '250.2' 'E947' '452' '872' '905' 'E930' '921'\n",
      " '131' '448' '389' '421' '214' '705' '494' '752' '623' '9' '299' '959'\n",
      " '365' '967' 'E858' '40' '691' '909' '5' '814' '746' '250.31' '556' '680'\n",
      " '745' '351' '306' '110' '695' '552' '346' '918' '882' '947' '520' '188'\n",
      " '31' '356' '737' 'V08' '322' '182' '517' '974' 'E929' 'V53' '912' '252'\n",
      " '608' '516' 'E933' '94' '702' '923' '594' '647' '111' '934' '430' '487'\n",
      " '709' '796' '156' '977' '915' '756' '840' '341' '259' '693' '725' 'V62'\n",
      " '528' '683' '953' '457' '501' 'E900' 'V09' '522' '919' '461' '506' '193'\n",
      " '483' 'E936' '717' '802' '335' 'V54' '320' '945' '906' '239' '454' '826'\n",
      " '823' 'E941' '226' '795' '684' '844' '250.33' '308' '615' '588' '712'\n",
      " '663' '706' '833' '741' '713' '533' 'E884' '586' '555' '755' 'E928' '742'\n",
      " '869' '962' 'V11' '543' '373' '870' '913' '152' '810' '965' '907' '908'\n",
      " '995' '845' '474' '442' '751' '323' '472' '464' '686' '250.32' '540'\n",
      " '251' '811' '652' '659' '851' '422' '815' '307' '325' '463' '992' '692'\n",
      " '521' '917' 'E965' '524' '916' 'E813' '173' '238' '137' '514' '312' '837'\n",
      " '355' '980' '622' '475' '500' '754' '261' '801' '868' '968' '381' '11'\n",
      " '250.21' '694' '610' '734' 'E814' '310' '130' '246' '892' '846' '634'\n",
      " '75' 'E927' 'E905' '183' '379' 'E917' '163' 'E868' '495' '747' '989'\n",
      " 'E854' '240' '832' '605' '602' '644' 'V16' '35' 'V70' '376' '266' 'E918'\n",
      " '619' '477' '656' '46' '883' '171' 'V13' '698' '842' 'E850' '800' '269'\n",
      " '664' 'E887' '952' '164' 'E881' '527' '685' '366' '836' '27' 'V63' '865'\n",
      " '793' '232' '990' '52' '831' '327' '542' '806' '972' '862' 'E829' 'E919'\n",
      " '944' 'E916' '963' '316' '645' '347' 'V85' '374' 'V02' '748' '256' '186'\n",
      " '866' '975' '96' '395' '262' 'E819' '654' '994' '318' 'E826' '879' '674'\n",
      " '641' '822' '145' '797' '353' 'E938' 'E816' '948' '987' '99' '192'\n",
      " '250.3' 'E906' '534' '115' 'E818' 'E980' '360' '338' '529' '871' '750'\n",
      " '212' '302' '955' '141' '88' 'V25' '215' '350' 'V50' 'V03' 'E853' 'E968'\n",
      " 'E882' '140' '703' '991' '893' 'E821' '235' 'V69' '670' '195' 'V55' '388'\n",
      " '268' '894' '114' '260' '853' '7' '880' 'V86' '180' 'E945' '523' '863'\n",
      " '649' '270' '665' '460' '942' '364' '66' 'E883' '123' '884' 'V60' '843'\n",
      " '927' 'abcde']\n",
      "tolazamide\n",
      "['No' 'Steady' 'Up' 'abcde']\n",
      "citoglipton\n",
      "['No' 'abcde']\n",
      "payer_code_2\n",
      "['?' 'MC' 'MD' 'HM' 'UN' 'BC' 'SP' 'CP' 'SI' 'DM' 'CM' 'CH' 'PO' 'WC' 'OT'\n",
      " 'OG' 'MP' 'FR' 'abcde']\n",
      "US\n",
      "[1 '1' 'abcde']\n",
      "miglitol\n",
      "['No' 'Steady' 'Down' 'Up' 'abcde']\n",
      "name\n",
      "['name' 'abcde']\n",
      "gender\n",
      "['Female' 'Male' 'Unknown/Invalid' 'abcde']\n",
      "change\n",
      "['No' 'Ch' 'abcde']\n",
      "encounter_id\n",
      "[2278392 149190 64410 ... '272916426' '168337386' '123737106']\n",
      "glipizide\n",
      "['No' 'Steady' 'Up' 'Down' 'abcde']\n",
      "metformin-pioglitazone_2\n",
      "['No' 'Steady' 'abcde']\n",
      "glipizide-metformin\n",
      "['No' 'Steady' 'abcde']\n",
      "glimepiride\n",
      "['No' 'Steady' 'Down' 'Up' 'abcde']\n",
      "num_lab_procedures\n",
      "[41 59 11 44 51 31 70 73 68 33 47 62 60 55 49 75 45 29 35 42 66 36 19 64\n",
      " 25 53 52 87 27 37 46 28 48 72 10 2 65 67 40 54 58 57 43 32 83 34 39 69 38\n",
      " 56 22 96 78 61 88 50 1 18 82 9 63 24 71 77 81 76 90 93 3 103 13 80 85 16\n",
      " 15 12 30 23 17 21 79 26 5 95 97 84 14 74 105 86 98 20 6 94 8 102 100 7 89\n",
      " 91 92 4 101 99 114 113 111 129 107 108 106 104 109 120 132 121 126 118\n",
      " '32' '31' '11' '80' '18' '63' '42' '13' '1' '12' '38' '56' '27' '39' '58'\n",
      " '54' '48' '36' '72' '65' '62' '35' '23' '57' '68' '69' '60' '74' '46'\n",
      " '14' '40' '67' '70' '66' '30' '59' '45' '3' '84' '26' '71' '50' '41' '49'\n",
      " '51' '61' '24' '21' '55' '2' '9' '29' '6' '19' '10' '25' '64' '53' '43'\n",
      " '34' '33' '44' '78' '16' '28' '15' '77' '8' '86' '83' '37' '81' '79' '52'\n",
      " '73' '90' '7' '47' '4' '22' '75' '20' '76' '17' '82' '5' '85' '96' '91'\n",
      " '94' '99' '93' '92' '88' '87' '100' '89' '97' '98' '101' 'abcde' '103'\n",
      " '95' '105' '102' '114' '113' '111' '118' '108']\n",
      "num_medications\n",
      "[1 18 13 16 8 21 12 28 17 11 15 31 2 23 19 7 20 14 10 22 9 27 25 4 32 6 30\n",
      " 26 24 33 5 39 3 29 61 40 46 41 36 34 35 50 43 42 37 51 38 45 54 52 49 62\n",
      " 55 47 44 53 48 57 59 56 60 63 58 70 67 64 69 65 68 66 81 79 75 72 74 '27'\n",
      " '19' '12' '11' '6' '37' '13' '16' '9' '25' '15' '10' '22' '23' '29' '17'\n",
      " '5' '14' '18' '34' '32' '20' '26' '8' '7' '21' '31' '3' '28' '2' '4' '50'\n",
      " '24' '36' '33' '30' '42' '39' '1' '35' '41' '46' '49' '60' '57' '47' '38'\n",
      " '52' '43' '40' '51' '56' '48' '44' '64' '65' 'abcde' '61' '45' '54' '62'\n",
      " '55' '53' '59' '58' '69' '63' '67' '68']\n",
      "admission_source_id\n",
      "[1 7 2 4 5 6 20 3 17 8 9 14 10 22 11 25 13 '7' '5' '1' '6' '4' '17' '9'\n",
      " '2' '22' '25' 'abcde' '20' '3' '8' '13' '10']\n",
      "number_emergency\n",
      "[0 1 2 4 3 9 5 7 6 8 22 25 10 13 42 16 11 28 15 14 18 12 21 20 19 46 76 37\n",
      " 64 63 54 '1' '0' '3' '2' '6' '7' '4' '5' '24' '13' '9' '29' '16' 'abcde'\n",
      " '8' '22' '25' '11' '10' '12' '46' '18' '20' '63']\n",
      "patient_nbr\n"
     ]
    },
    {
     "name": "stdout",
     "output_type": "stream",
     "text": [
      "[8222157 55629189 86047875 ... '96870933' '24122547' '23207931']\n",
      "metformin-pioglitazone\n",
      "['No' 'Steady' 'abcde']\n",
      "num_procedures\n",
      "[0 5 1 6 2 3 4 '0' '1' '5' '4' '2' '3' '6' 'abcde']\n",
      "acetohexamide\n",
      "['No' 'Steady' 'abcde']\n",
      "max_glu_serum\n",
      "['None' '>300' 'Norm' '>200' 'abcde']\n",
      "payer_code\n",
      "['?' 'MC' 'MD' 'HM' 'UN' 'BC' 'SP' 'CP' 'SI' 'DM' 'CM' 'CH' 'PO' 'WC' 'OT'\n",
      " 'OG' 'MP' 'FR' 'abcde']\n",
      "admission_type_id\n",
      "[6 1 2 3 4 5 8 7 '1' '3' '8' '2' '6' '5' '7' '4' 'abcde']\n",
      "insulin\n",
      "['No' 'Up' 'Steady' 'Down' 'abcde']\n",
      "repaglinide\n",
      "['No' 'Up' 'Steady' 'Down' 'abcde']\n",
      "nateglinide\n",
      "['No' 'Steady' 'Down' 'Up' 'abcde']\n",
      "discharge_disposition_id\n",
      "[25 1 3 6 2 5 11 7 10 4 14 18 8 13 12 16 17 22 23 9 20 15 24 28 19 27 '1'\n",
      " '4' '6' '7' '22' '3' '11' '28' '2' '5' '14' '13' '23' '24' '18' '25' '19'\n",
      " 'abcde' '10' '8' '12' '9' '15' '17' '20' '16' '27']\n",
      "age\n",
      "['[0-10)' '[10-20)' '[20-30)' '[30-40)' '[40-50)' '[50-60)' '[60-70)'\n",
      " '[70-80)' '[80-90)' '[90-100)' 'abcde']\n",
      "medical_specialty\n",
      "['Pediatrics-Endocrinology' '?' 'InternalMedicine'\n",
      " 'Family/GeneralPractice' 'Cardiology' 'Surgery-General' 'Orthopedics'\n",
      " 'Gastroenterology' 'Surgery-Cardiovascular/Thoracic' 'Nephrology'\n",
      " 'Orthopedics-Reconstructive' 'Psychiatry' 'Emergency/Trauma'\n",
      " 'Pulmonology' 'Surgery-Neuro' 'Obsterics&Gynecology-GynecologicOnco'\n",
      " 'ObstetricsandGynecology' 'Pediatrics' 'Hematology/Oncology'\n",
      " 'Otolaryngology' 'Surgery-Colon&Rectal' 'Pediatrics-CriticalCare'\n",
      " 'Endocrinology' 'Urology' 'Psychiatry-Child/Adolescent'\n",
      " 'Pediatrics-Pulmonology' 'Neurology' 'Anesthesiology-Pediatric'\n",
      " 'Radiology' 'Pediatrics-Hematology-Oncology' 'Psychology' 'Podiatry'\n",
      " 'Gynecology' 'Oncology' 'Pediatrics-Neurology' 'Surgery-Plastic'\n",
      " 'Surgery-Thoracic' 'Surgery-PlasticwithinHeadandNeck' 'Ophthalmology'\n",
      " 'Surgery-Pediatric' 'Pediatrics-EmergencyMedicine'\n",
      " 'PhysicalMedicineandRehabilitation' 'InfectiousDiseases' 'Anesthesiology'\n",
      " 'Rheumatology' 'AllergyandImmunology' 'Surgery-Maxillofacial'\n",
      " 'Pediatrics-InfectiousDiseases' 'Pediatrics-AllergyandImmunology'\n",
      " 'Dentistry' 'Surgeon' 'Surgery-Vascular' 'Osteopath'\n",
      " 'Psychiatry-Addictive' 'Surgery-Cardiovascular' 'PhysicianNotFound'\n",
      " 'Hematology' 'Proctology' 'Obstetrics' 'SurgicalSpecialty' 'Radiologist'\n",
      " 'Pathology' 'Dermatology' 'SportsMedicine' 'Speech' 'Hospitalist'\n",
      " 'OutreachServices' 'Cardiology-Pediatric' 'Perinatology'\n",
      " 'Neurophysiology' 'Endocrinology-Metabolism' 'DCPTEAM' 'Resident' 'abcde']\n",
      "troglitazone_2\n",
      "['No' 'Steady' 'abcde']\n",
      "rosiglitazone\n",
      "['No' 'Steady' 'Up' 'Down' 'abcde']\n",
      "glimepiride-pioglitazone\n",
      "['No' 'Steady' 'abcde']\n",
      "weight\n",
      "['?' '[75-100)' '[50-75)' '[0-25)' '[100-125)' '[25-50)' '[125-150)'\n",
      " '[175-200)' '[150-175)' '>200' 'abcde']\n",
      "diabetesMed\n",
      "['No' 'Yes' 'abcde']\n",
      "pioglitazone\n",
      "['No' 'Steady' 'Up' 'Down' 'abcde']\n",
      "troglitazone\n",
      "['No' 'Steady' 'abcde']\n",
      "diag_3\n",
      "['?' '255' 'V27' '403' '250' 'V45' '38' '486' '996' '197' '250.6' '427'\n",
      " '627' '414' '416' '714' '428' '582' 'V43' '250.01' '263' '250.42' '276'\n",
      " '482' '401' '250.41' '585' '781' '278' '998' '568' '682' '618' '250.02'\n",
      " '305' '707' '496' '599' '715' '424' '518' '553' '794' '411' 'V42' '531'\n",
      " '511' '490' '562' '250.8' '250.7' '250.52' '784' '491' '581' '420' '8'\n",
      " '724' '730' '789' '131' '250.82' '999' '41' '493' '250.03' '753' '786'\n",
      " '529' 'E888' '425' '595' '303' '560' '711' '492' '332' '296' '438' '362'\n",
      " '250.4' '654' '244' 'V70' '737' '625' '681' '250.51' '404' 'V10' '810'\n",
      " '280' '440' '785' '588' '569' '272' '997' '250.43' '918' '584' '54' '788'\n",
      " '426' '722' '250.92' '196' '461' '535' '787' '891' '284' '458' '648'\n",
      " '780' '182' '285' '593' '413' '664' '564' '201' '356' 'V15' '292' '782'\n",
      " '473' '455' 'E932' '357' '348' '294' '250.23' '459' 'E878' '437' '733'\n",
      " '507' '525' '250.53' '397' '572' '805' '453' '331' '736' '402' '591'\n",
      " '576' '465' '533' '703' '349' '315' '658' '608' '578' '716' '382' '300'\n",
      " '282' '571' '536' '596' '287' '644' 'V11' '558' 'E885' '162' '198' '218'\n",
      " '412' '396' 'V14' '570' '433' 'E934' '882' '288' '577' '443' '729' '836'\n",
      " '295' '799' '281' '304' '153' '410' '616' '250.83' '601' '291' '75' '512'\n",
      " '660' '250.5' '598' '337' '574' '653' 'V58' '311' '415' '386' '602' '790'\n",
      " '112' '873' '620' '436' '70' '155' '138' '663' '530' '710' '42' '342'\n",
      " '250.91' 'E884' '515' '307' '704' '728' '731' '583' '238' '441' '293'\n",
      " '573' '532' '290' '594' '319' '250.13' '250.12' '519' '346' '380' '135'\n",
      " '642' '698' '924' '905' 'E933' '555' '309' 'E879' '286' '565' '752' '580'\n",
      " '446' '444' '344' '252' '35' '813' '394' '301' '575' '258' 'V17' '802'\n",
      " '435' '746' 'V12' '709' '881' 'E935' '139' '250.81' '718' '365' '202'\n",
      " '334' '185' '398' 'V44' '517' 'E849' '614' '466' '626' '250.9' '368'\n",
      " '605' '883' '289' '478' '617' '429' '442' 'V25' '866' '610' '557' '959'\n",
      " 'E942' '94' '920' '345' '313' '379' '79' '516' '586' '821' '600' '242'\n",
      " '373' '592' 'V64' '487' '253' '706' 'E947' '117' '340' 'E950' '656'\n",
      " 'E949' '590' 'V09' '250.22' '934' '694' '203' '250.93' '995' '726' '923'\n",
      " '958' '275' 'E929' '211' 'V18' 'V66' '199' '665' '53' '279' '522' '791'\n",
      " '890' '456' 'E938' 'E816' '122' '721' 'V65' '136' '480' '423' 'E920'\n",
      " '793' '647' '537' '351' '845' '336' '274' '719' '945' '434' '494' '227'\n",
      " '157' '208' '174' 'V57' '812' '734' '150' 'V23' '447' '692' '228' 'V16'\n",
      " '756' '405' 'E928' '823' '552' '528' '389' '240' '454' '792' '366' 'E939'\n",
      " '907' '270' '310' '266' '387' 'E931' '783' '245' '607' '355' 'E930' '705'\n",
      " '372' '369' '611' '283' 'V46' '110' '867' 'E956' '251' '250.2' '820'\n",
      " '712' '695' '567' '343' '723' 'V08' '273' '623' '807' '451' '495' '701'\n",
      " '34' 'V53' '314' '472' 'E945' '11' '189' '534' '354' '333' 'V54' '277'\n",
      " '659' '708' '452' '655' '816' '670' '621' '246' '953' '865' 'E817' '646'\n",
      " '151' '378' '78' '298' '840' '641' '521' '745' '619' '912' '506' 'E904'\n",
      " '259' 'E870' 'E980' '383' '204' '696' '566' '727' '47' 'E943' '358' '191'\n",
      " '965' '921' '432' '27' 'E861' '758' '477' '524' '751' '652' '556' '188'\n",
      " '825' '919' '732' '908' '951' '962' '685' 'E850' 'E944' '527' '341' '693'\n",
      " '250.1' 'V49' '860' '323' 'V55' '579' '508' '969' '205' '462' 'E880'\n",
      " '680' '697' '826' '200' '457' '717' '738' '742' '735' '235' '308' '725'\n",
      " '241' '824' '464' '260' '917' '239' '661' '892' '261' 'E883' '943' '744'\n",
      " 'E936' '796' '318' '967' '350' '854' 'E905' '9' '741' 'E941' '170' '643'\n",
      " '317' '759' '909' 'V22' '831' '713' '180' '801' '360' '359' '501' '335'\n",
      " '250.11' '306' '811' '690' 'V02' '271' '214' '847' '543' 'V63' '906'\n",
      " '842' '686' '445' '808' '861' 'E852' '220' 'E887' 'E858' '915' '970'\n",
      " '256' '747' '395' '243' '815' '481' '5' 'E927' '297' '299' '851' '864'\n",
      " '922' '384' 'E876' '225' '158' 'E937' '871' '88' '966' 'E917' 'E812'\n",
      " 'V62' 'E924' '604' '233' 'E916' '377' '797' 'V72' '172' '7' '421' '852'\n",
      " 'E819' '972' '916' '956' '3' 'E965' '173' '193' '154' '347' '862' '250.3'\n",
      " '987' '470' '262' 'E855' '161' '115' '179' '910' '312' '17' '460' '265'\n",
      " '66' '163' 'V60' '870' 'E906' '514' '944' '844' '417' '152' '183' '991'\n",
      " '216' '385' '164' '935' '510' '814' '485' '850' '250.21' 'E919' '872'\n",
      " '195' '431' '597' '933' '171' '884' '156' '868' '483' 'E815' '542' 'V61'\n",
      " '853' '374' 'E881' 'E882' 'E822' '192' '754' '327' '523' '500' 'V85'\n",
      " '992' '657' '684' '603' 'E826' '550' '913' '376' '755' '361' '186' '720'\n",
      " '250.31' '674' '911' 'E813' '226' '365.44' 'E818' '146' '955' 'E894'\n",
      " '475' 'V13' '880' '930' 'E915' '381' '132' '353' '795' '893' 'V01' 'E853'\n",
      " '863' '540' 'E828' '430' '800' 'E865' '148' 'E946' '822' '879' '848'\n",
      " 'V86' 'V03' '338' '989' '388' 'E966' '111' 'E922' '123' '757' 'E901'\n",
      " '141' '268' 'E892' '649' '702' '948' '223' '484' 'E886' '838' '928' '236'\n",
      " '624' '837' 'E987' 'V07' '841' '622' 'E912' 'E955' '463' 'V06' 'E864'\n",
      " '217' '877' '391' 'E825' '952' '669' '875' 'E900' '215' '538' '980' '834'\n",
      " '448' '175' '49' '876' '230' '57' 'E854' '942' '14' '750' '370' '671'\n",
      " '971' 'abcde']\n",
      "glyburide-metformin\n",
      "['No' 'Steady' 'Down' 'Up' 'abcde']\n",
      "readmitted\n",
      "['NO' '>30' '<30' 'abcde']\n",
      "number_outpatient\n",
      "[0 2 1 5 7 9 3 8 4 12 11 6 20 15 10 13 14 16 21 35 17 29 36 18 19 27 22 24\n",
      " 42 39 34 26 33 25 23 28 37 38 '0' '2' '1' '5' '3' '4' '7' '8' '9' '6'\n",
      " '24' '11' '40' '21' '17' '10' '13' '33' 'abcde' '12' '20' '15' '18' '38'\n",
      " '14' '16' '27' '25' '42' '29' '36']\n",
      "tolbutamide\n",
      "['No' 'Steady' 'abcde']\n",
      "metformin\n",
      "['No' 'Steady' 'Up' 'Down' 'abcde']\n"
     ]
    }
   ],
   "source": [
    "# unique values\n",
    "for column in data.columns:\n",
    "    print(column)\n",
    "    print(data[column].unique())"
   ]
  },
  {
   "cell_type": "markdown",
   "id": "d1919d8c",
   "metadata": {},
   "source": [
    "## Reporting"
   ]
  },
  {
   "cell_type": "code",
   "execution_count": 4,
   "id": "d57370e3",
   "metadata": {},
   "outputs": [
    {
     "data": {
      "text/plain": [
       "3.1315146689094276e-05"
      ]
     },
     "execution_count": 4,
     "metadata": {},
     "output_type": "execute_result"
    }
   ],
   "source": [
    "# nan gender\n",
    "len(data[data['gender'] == 'Unknown/Invalid']) / len(data)"
   ]
  },
  {
   "cell_type": "code",
   "execution_count": 5,
   "id": "6bd54470",
   "metadata": {},
   "outputs": [],
   "source": [
    "# drop the unknown gender\n",
    "data = data[data['gender'] != 'Unknown/Invalid']"
   ]
  },
  {
   "cell_type": "code",
   "execution_count": 6,
   "id": "b2c3a245",
   "metadata": {},
   "outputs": [
    {
     "data": {
      "text/plain": [
       "0.022337346271367665"
      ]
     },
     "execution_count": 6,
     "metadata": {},
     "output_type": "execute_result"
    }
   ],
   "source": [
    "# nan race\n",
    "len(data[data['race']=='?']) / len(data)"
   ]
  },
  {
   "cell_type": "code",
   "execution_count": 7,
   "id": "23227c0e",
   "metadata": {},
   "outputs": [],
   "source": [
    "# since we have 2% missing values, we can drop the rows\n",
    "data = data[data['race'] != '?']"
   ]
  },
  {
   "cell_type": "code",
   "execution_count": 8,
   "id": "d2ea883a",
   "metadata": {},
   "outputs": [
    {
     "data": {
      "text/plain": [
       "0.03075036378778588"
      ]
     },
     "execution_count": 8,
     "metadata": {},
     "output_type": "execute_result"
    }
   ],
   "source": [
    "# see how many values are missing in weight\n",
    "# since 97% is missing, we are dropping the column in the feature engineering section\n",
    "len(data[data['weight'] != '?']) / len(data)"
   ]
  },
  {
   "cell_type": "code",
   "execution_count": 9,
   "id": "5c80e47e",
   "metadata": {},
   "outputs": [],
   "source": [
    "# replacing abcde values\n",
    "data.replace('abcde', pd.NA, inplace=True)"
   ]
  },
  {
   "cell_type": "code",
   "execution_count": 10,
   "id": "8e78eb5b",
   "metadata": {},
   "outputs": [],
   "source": [
    "# drop duplicated values\n",
    "data = data.drop_duplicates(keep='first')"
   ]
  },
  {
   "cell_type": "code",
   "execution_count": 11,
   "id": "39bb56c7",
   "metadata": {},
   "outputs": [],
   "source": [
    "# take out the outliers\n",
    "data = data[data['glimepiride-pioglitazone'] != 'Steady']\n",
    "data = data[data['acetohexamide'] != 'Steady']"
   ]
  },
  {
   "cell_type": "markdown",
   "id": "00304145",
   "metadata": {},
   "source": [
    "# Feature engineering"
   ]
  },
  {
   "cell_type": "code",
   "execution_count": 12,
   "id": "910d0a90",
   "metadata": {},
   "outputs": [],
   "source": [
    "# eliminate columns without predictive power\n",
    "data = data.drop(columns=['patient_nbr', 'encounter_id', 'out', 'payer_code', 'payer_code_2', 'name', \n",
    "                          'metformin-rosiglitazone', 'examide', 'citoglipton', 'US', 'metformin-pioglitazone', \n",
    "                          'glimepiride-pioglitazone', 'medical_specialty', 'troglitazone', 'troglitazone_2', \n",
    "                          'weight', 'metformin-pioglitazone_2', 'acetohexamide', 'glyburide-metformin_2'])"
   ]
  },
  {
   "cell_type": "code",
   "execution_count": 13,
   "id": "f6250cd7",
   "metadata": {},
   "outputs": [],
   "source": [
    "# drop all the nans\n",
    "data = data.dropna(axis=0)"
   ]
  },
  {
   "cell_type": "code",
   "execution_count": 14,
   "id": "638fa362",
   "metadata": {},
   "outputs": [],
   "source": [
    "# med encoding\n",
    "def get_encoding_med(value: str) -> int:\n",
    "    '''Returns an ascending encoder for the dosis in meds'''\n",
    "    encoder = {\n",
    "        'No': 0,\n",
    "        'Steady': 1,\n",
    "        'Down': 2,\n",
    "        'Up': 3,\n",
    "    }\n",
    "    return encoder.get(value, 4)\n",
    "\n",
    "\n",
    "meds_to_encode = ['glyburide', 'miglitol', 'glipizide',  'metformin', 'acarbose', 'chlorpropamide', 'tolazamide', \n",
    "                  'glipizide-metformin', 'glimepiride', 'pioglitazone', 'rosiglitazone', 'insulin', 'repaglinide',\n",
    "                  'nateglinide', 'glyburide-metformin', 'glyburide-metformin']\n",
    "for med in meds_to_encode:\n",
    "    data[med] = data[med].apply(lambda row: get_encoding_med(row))"
   ]
  },
  {
   "cell_type": "code",
   "execution_count": 15,
   "id": "3edf9a4a",
   "metadata": {},
   "outputs": [],
   "source": [
    "# diag encoding\n",
    "def get_clean_diag(value) -> int:\n",
    "    '''Returns the encoding of the diagnostics'''\n",
    "    if value is pd.NA or  value == '?':\n",
    "        return '0'\n",
    "    elif value[0] == 'E':\n",
    "        trunc = float(value[1:]) // 200\n",
    "        return 'E' + str(trunc)\n",
    "    elif value[0] == 'V':\n",
    "        trunc = float(value[1:]) // 20\n",
    "        return 'V' + str(trunc)\n",
    "    else:\n",
    "        trunc = float(value) // 200\n",
    "        return str(trunc)\n",
    "\n",
    "\n",
    "for diag in ['diag_1', 'diag_2', 'diag_3']:\n",
    "    data[diag] = data[diag].apply(lambda row: get_clean_diag(row))"
   ]
  },
  {
   "cell_type": "code",
   "execution_count": 16,
   "id": "7844b60c",
   "metadata": {},
   "outputs": [],
   "source": [
    "# age encoding for sci kit learn\n",
    "def get_age_clean(value) -> int:\n",
    "    'return the age as a number format'\n",
    "    return value[-3:-1]\n",
    "\n",
    "\n",
    "data['age'] = data['age'].apply(lambda row: get_age_clean(row))"
   ]
  },
  {
   "cell_type": "code",
   "execution_count": 17,
   "id": "9c12a540",
   "metadata": {},
   "outputs": [],
   "source": [
    "# standarize values\n",
    "def get_standarized_values(values: pd.Series) -> pd.Series:\n",
    "    '''Returns normalized values'''\n",
    "    values = values.astype(float)\n",
    "    mean = values.mean()\n",
    "    std = values.std()\n",
    "    normalized_values = (values - mean) / std\n",
    "    return normalized_values\n",
    "\n",
    "\n",
    "numeric_columns = ['number_inpatient', 'number_diagnoses', 'time_in_hospital', 'num_lab_procedures',\n",
    "                   'num_medications', 'number_emergency', 'num_procedures', 'number_outpatient', \n",
    "                   'admission_source_id', 'admission_type_id', 'discharge_disposition_id', 'time_in_hospital']\n",
    "for column in numeric_columns:\n",
    "    data[column] = get_standarized_values(data[column])"
   ]
  },
  {
   "cell_type": "code",
   "execution_count": 18,
   "id": "d49b52a9",
   "metadata": {},
   "outputs": [],
   "source": [
    "# make dummie variables\n",
    "data = pd.get_dummies(data, columns=['diag_1', 'diag_2', 'diag_3', 'race', 'gender', 'max_glu_serum', 'A1Cresult', 'change', \n",
    "                                     'diabetesMed', 'tolbutamide'],\n",
    "                      drop_first=True)"
   ]
  },
  {
   "cell_type": "code",
   "execution_count": 19,
   "id": "e084699a",
   "metadata": {},
   "outputs": [],
   "source": [
    "# make the target variable binary\n",
    "data['readmitted_binary'] = (data['readmitted'] == '<30').astype(int)"
   ]
  },
  {
   "cell_type": "markdown",
   "id": "c4ee3ea9",
   "metadata": {},
   "source": [
    "# Split Data"
   ]
  },
  {
   "cell_type": "code",
   "execution_count": 20,
   "id": "db04d249",
   "metadata": {},
   "outputs": [],
   "source": [
    "X = data.drop(['readmitted', 'readmitted_binary'], axis=1)\n",
    "y = data['readmitted_binary']\n",
    "X_train, X_test, y_train, y_test = train_test_split(X, y, test_size=0.2, random_state=42)"
   ]
  },
  {
   "cell_type": "markdown",
   "id": "ee519e43",
   "metadata": {},
   "source": [
    "# Modelo predictivo"
   ]
  },
  {
   "cell_type": "code",
   "execution_count": 21,
   "id": "803b8c9d",
   "metadata": {},
   "outputs": [
    {
     "data": {
      "text/html": [
       "<style>#sk-container-id-1 {color: black;}#sk-container-id-1 pre{padding: 0;}#sk-container-id-1 div.sk-toggleable {background-color: white;}#sk-container-id-1 label.sk-toggleable__label {cursor: pointer;display: block;width: 100%;margin-bottom: 0;padding: 0.3em;box-sizing: border-box;text-align: center;}#sk-container-id-1 label.sk-toggleable__label-arrow:before {content: \"▸\";float: left;margin-right: 0.25em;color: #696969;}#sk-container-id-1 label.sk-toggleable__label-arrow:hover:before {color: black;}#sk-container-id-1 div.sk-estimator:hover label.sk-toggleable__label-arrow:before {color: black;}#sk-container-id-1 div.sk-toggleable__content {max-height: 0;max-width: 0;overflow: hidden;text-align: left;background-color: #f0f8ff;}#sk-container-id-1 div.sk-toggleable__content pre {margin: 0.2em;color: black;border-radius: 0.25em;background-color: #f0f8ff;}#sk-container-id-1 input.sk-toggleable__control:checked~div.sk-toggleable__content {max-height: 200px;max-width: 100%;overflow: auto;}#sk-container-id-1 input.sk-toggleable__control:checked~label.sk-toggleable__label-arrow:before {content: \"▾\";}#sk-container-id-1 div.sk-estimator input.sk-toggleable__control:checked~label.sk-toggleable__label {background-color: #d4ebff;}#sk-container-id-1 div.sk-label input.sk-toggleable__control:checked~label.sk-toggleable__label {background-color: #d4ebff;}#sk-container-id-1 input.sk-hidden--visually {border: 0;clip: rect(1px 1px 1px 1px);clip: rect(1px, 1px, 1px, 1px);height: 1px;margin: -1px;overflow: hidden;padding: 0;position: absolute;width: 1px;}#sk-container-id-1 div.sk-estimator {font-family: monospace;background-color: #f0f8ff;border: 1px dotted black;border-radius: 0.25em;box-sizing: border-box;margin-bottom: 0.5em;}#sk-container-id-1 div.sk-estimator:hover {background-color: #d4ebff;}#sk-container-id-1 div.sk-parallel-item::after {content: \"\";width: 100%;border-bottom: 1px solid gray;flex-grow: 1;}#sk-container-id-1 div.sk-label:hover label.sk-toggleable__label {background-color: #d4ebff;}#sk-container-id-1 div.sk-serial::before {content: \"\";position: absolute;border-left: 1px solid gray;box-sizing: border-box;top: 0;bottom: 0;left: 50%;z-index: 0;}#sk-container-id-1 div.sk-serial {display: flex;flex-direction: column;align-items: center;background-color: white;padding-right: 0.2em;padding-left: 0.2em;position: relative;}#sk-container-id-1 div.sk-item {position: relative;z-index: 1;}#sk-container-id-1 div.sk-parallel {display: flex;align-items: stretch;justify-content: center;background-color: white;position: relative;}#sk-container-id-1 div.sk-item::before, #sk-container-id-1 div.sk-parallel-item::before {content: \"\";position: absolute;border-left: 1px solid gray;box-sizing: border-box;top: 0;bottom: 0;left: 50%;z-index: -1;}#sk-container-id-1 div.sk-parallel-item {display: flex;flex-direction: column;z-index: 1;position: relative;background-color: white;}#sk-container-id-1 div.sk-parallel-item:first-child::after {align-self: flex-end;width: 50%;}#sk-container-id-1 div.sk-parallel-item:last-child::after {align-self: flex-start;width: 50%;}#sk-container-id-1 div.sk-parallel-item:only-child::after {width: 0;}#sk-container-id-1 div.sk-dashed-wrapped {border: 1px dashed gray;margin: 0 0.4em 0.5em 0.4em;box-sizing: border-box;padding-bottom: 0.4em;background-color: white;}#sk-container-id-1 div.sk-label label {font-family: monospace;font-weight: bold;display: inline-block;line-height: 1.2em;}#sk-container-id-1 div.sk-label-container {text-align: center;}#sk-container-id-1 div.sk-container {/* jupyter's `normalize.less` sets `[hidden] { display: none; }` but bootstrap.min.css set `[hidden] { display: none !important; }` so we also need the `!important` here to be able to override the default hidden behavior on the sphinx rendered scikit-learn.org. See: https://github.com/scikit-learn/scikit-learn/issues/21755 */display: inline-block !important;position: relative;}#sk-container-id-1 div.sk-text-repr-fallback {display: none;}</style><div id=\"sk-container-id-1\" class=\"sk-top-container\"><div class=\"sk-text-repr-fallback\"><pre>RandomForestClassifier(random_state=42)</pre><b>In a Jupyter environment, please rerun this cell to show the HTML representation or trust the notebook. <br />On GitHub, the HTML representation is unable to render, please try loading this page with nbviewer.org.</b></div><div class=\"sk-container\" hidden><div class=\"sk-item\"><div class=\"sk-estimator sk-toggleable\"><input class=\"sk-toggleable__control sk-hidden--visually\" id=\"sk-estimator-id-1\" type=\"checkbox\" checked><label for=\"sk-estimator-id-1\" class=\"sk-toggleable__label sk-toggleable__label-arrow\">RandomForestClassifier</label><div class=\"sk-toggleable__content\"><pre>RandomForestClassifier(random_state=42)</pre></div></div></div></div></div>"
      ],
      "text/plain": [
       "RandomForestClassifier(random_state=42)"
      ]
     },
     "execution_count": 21,
     "metadata": {},
     "output_type": "execute_result"
    }
   ],
   "source": [
    "model = RandomForestClassifier(random_state=42)\n",
    "model.fit(X_train, y_train)"
   ]
  },
  {
   "cell_type": "markdown",
   "id": "6c33d1fc",
   "metadata": {},
   "source": [
    "# Feature importance"
   ]
  },
  {
   "cell_type": "code",
   "execution_count": 22,
   "id": "83a7103a",
   "metadata": {},
   "outputs": [
    {
     "data": {
      "image/png": "[encoded data removed]",
      "text/plain": [
       "<Figure size 640x480 with 1 Axes>"
      ]
     },
     "metadata": {},
     "output_type": "display_data"
    }
   ],
   "source": [
    "plt.bar(range(len(model.feature_importances_)), model.feature_importances_)\n",
    "plt.xtitle= X.columns\n",
    "plt.show()"
   ]
  },
  {
   "cell_type": "markdown",
   "id": "19233e38",
   "metadata": {},
   "source": [
    "# Feature selection"
   ]
  },
  {
   "cell_type": "code",
   "execution_count": 23,
   "id": "74e77a7e",
   "metadata": {},
   "outputs": [],
   "source": [
    "# there are 73 features, but we get most predictive power from just 10\n",
    "# but we are going to use 30 features that is the simplest model \n",
    "# that has the highest metrics\n",
    "\n",
    "sfm = SelectFromModel(model, threshold=-np.inf, max_features=30) \n",
    "sfm.fit(X, y)\n",
    "X_selected = sfm.transform(X)\n",
    "# Split the data into training and testing sets\n",
    "X_train, X_test, y_train, y_test = train_test_split(X_selected, y, test_size=0.2, random_state=42)\n",
    "\n",
    "# Train your model on the selected features\n",
    "model_selected = RandomForestClassifier(random_state=42)\n",
    "model_selected.fit(X_train, y_train)\n",
    "\n",
    "# Make predictions on the test set\n",
    "y_pred = model_selected.predict(X_test)\n",
    "\n",
    "# Evaluate the model's performance\n",
    "accuracy = accuracy_score(y_test, y_pred)"
   ]
  },
  {
   "cell_type": "markdown",
   "id": "7a99cc3c",
   "metadata": {},
   "source": [
    "# Evaluar Modelo"
   ]
  },
  {
   "cell_type": "code",
   "execution_count": 24,
   "id": "f6727639",
   "metadata": {},
   "outputs": [
    {
     "data": {
      "text/plain": [
       "0.9309241841514032"
      ]
     },
     "execution_count": 24,
     "metadata": {},
     "output_type": "execute_result"
    }
   ],
   "source": [
    "accuracy"
   ]
  },
  {
   "cell_type": "code",
   "execution_count": 25,
   "id": "bccad465",
   "metadata": {},
   "outputs": [
    {
     "data": {
      "text/plain": [
       "0.5603490063015026"
      ]
     },
     "execution_count": 25,
     "metadata": {},
     "output_type": "execute_result"
    }
   ],
   "source": [
    "f1_score(y_test, y_pred)"
   ]
  },
  {
   "cell_type": "code",
   "execution_count": 26,
   "id": "470143b6",
   "metadata": {},
   "outputs": [
    {
     "data": {
      "image/png": "[encoded data removed]",
      "text/plain": [
       "<Figure size 800x600 with 1 Axes>"
      ]
     },
     "metadata": {},
     "output_type": "display_data"
    }
   ],
   "source": [
    "# ROC Curve\n",
    "y_prediction = model_selected.predict_proba(X_test)[:, 1]\n",
    "fpr, tpr, thresholds = roc_curve(y_test, y_prediction)\n",
    "roc_auc = auc(fpr, tpr)\n",
    "\n",
    "# Plot ROC curve\n",
    "plt.figure(figsize=(8, 6))\n",
    "plt.plot(fpr, tpr, color='darkorange', lw=2, label=f'AUC = {roc_auc:.2f}')\n",
    "plt.plot([0, 1], [0, 1], color='navy', lw=2, linestyle='--')\n",
    "plt.xlim([0.0, 1.0])\n",
    "plt.ylim([0.0, 1.05])\n",
    "plt.xlabel('False Positive Rate')\n",
    "plt.ylabel('True Positive Rate')\n",
    "plt.title('Receiver Operating Characteristic (ROC) Curve')\n",
    "plt.legend(loc='lower right')\n",
    "plt.show()"
   ]
  }
 ],
 "metadata": {
  "kernelspec": {
   "display_name": "Python 3 (ipykernel)",
   "language": "python",
   "name": "python3"
  },
  "language_info": {
   "codemirror_mode": {
    "name": "ipython",
    "version": 3
   },
   "file_extension": ".py",
   "mimetype": "text/x-python",
   "name": "python",
   "nbconvert_exporter": "python",
   "pygments_lexer": "ipython3",
   "version": "3.10.11"
  }
 },
 "nbformat": 4,
 "nbformat_minor": 5
}
